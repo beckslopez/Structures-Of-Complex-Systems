{
 "cells": [
  {
   "cell_type": "markdown",
   "metadata": {},
   "source": [
    "# Lab Two for UW AMATH 563\n",
    "## Assignment: MNIST Classification Task \n",
    "## By Rebecca Lopez"
   ]
  },
  {
   "cell_type": "code",
   "execution_count": 1,
   "metadata": {
    "ExecuteTime": {
     "end_time": "2022-04-09T06:51:48.000128Z",
     "start_time": "2022-04-09T06:51:46.255830Z"
    },
    "id": "p5dL4YeVorzV"
   },
   "outputs": [],
   "source": [
    "#Import Necessary Packages & Libraries\n",
    "import torch\n",
    "import numpy as np\n",
    "import matplotlib.pyplot as plt\n",
    "import torch.nn.functional as F\n",
    "from torch import nn\n",
    "from math import floor, ceil\n",
    "import random\n",
    "import tqdm\n",
    "import torchvision\n",
    "import torch.nn.functional as F"
   ]
  },
  {
   "cell_type": "markdown",
   "metadata": {
    "id": "B0vR5I9h4s8V"
   },
   "source": [
    "Design your own MNIST Classification model (see video recording for explanation of MNIST dataset). You may choose your own hyperparameters, including:\n",
    "- Number of layers\n",
    "- Number of neurons in each layer\n",
    "- Learning rate\n",
    "- Number of training epochs\n",
    "- Optimizer\n",
    "\n",
    "Using a fully-connected network, you should be able to accomplish >90% accuracy on the test set. Please report your hyperparameter selections and accuracy in a summary at the end of the notebook."
   ]
  },
  {
   "cell_type": "markdown",
   "metadata": {
    "id": "ly85jvec6V6A"
   },
   "source": [
    "To load the MNIST dataset, we will use `torchvision`, which contains the datasets and has useful transformations. Start by defining the batch size you want for your training and test sets"
   ]
  },
  {
   "cell_type": "code",
   "execution_count": 2,
   "metadata": {
    "ExecuteTime": {
     "end_time": "2022-04-09T06:51:48.552530Z",
     "start_time": "2022-04-09T06:51:48.003131Z"
    },
    "id": "feGo1EKE4sRg"
   },
   "outputs": [],
   "source": [
    "#Define train batch size\n",
    "train_batch_size = 600 \n",
    "#Define test batch size \n",
    "test_batch_size  = 200 \n",
    "#Define validation batch size\n",
    "valid_batch_size = 200\n",
    "\n",
    "# Use the following code to load and normalize the dataset\n",
    "MNIST_data = torch.utils.data.Subset( torchvision.datasets.MNIST('/files/', train=True, download=True,\n",
    "                             transform=torchvision.transforms.Compose([\n",
    "                               torchvision.transforms.ToTensor(),\n",
    "                               torchvision.transforms.Normalize(\n",
    "                                 (0.1307,), (0.3081,))\n",
    "                             ])),random.sample(range(60000), 1000))\n",
    "\n",
    "\n",
    "train_data, valid_data, test_data = torch.utils.data.random_split(MNIST_data, [train_batch_size, test_batch_size,valid_batch_size], generator=torch.Generator().manual_seed(1))\n",
    "\n",
    "train_loader = torch.utils.data.DataLoader(dataset=train_data, shuffle=True,batch_size=train_batch_size)\n",
    "test_loader = torch.utils.data.DataLoader(dataset=test_data, shuffle=False,batch_size=valid_batch_size)\n",
    "valid_loader = torch.utils.data.DataLoader(dataset=valid_data, shuffle=False,batch_size=test_batch_size)"
   ]
  },
  {
   "cell_type": "code",
   "execution_count": 3,
   "metadata": {
    "ExecuteTime": {
     "end_time": "2022-04-09T06:51:48.568558Z",
     "start_time": "2022-04-09T06:51:48.555536Z"
    },
    "id": "HrvoPg1f7Gxu"
   },
   "outputs": [],
   "source": [
    "#Define network:\n",
    "class Network(nn.Module):\n",
    "    def __init__(self,input_dim,hidden_dim1,hidden_dim2,output_dim): \n",
    "    #Define the network layer(s) and activation function(s)\n",
    "        super(Network, self).__init__()\n",
    "        self.layer1 = nn.Linear(input_dim, hidden_dim1)\n",
    "        self.layer2 = nn.Linear(hidden_dim1, hidden_dim2)\n",
    "        self.layer3 = nn.Linear(hidden_dim2, output_dim)\n",
    "\n",
    "    def forward(self, input):\n",
    "        output = F.leaky_relu(self.layer1(input))\n",
    "        output = F.relu(self.layer2(output))\n",
    "        output = F.softmax(self.layer3(output), dim=1)\n",
    "        return output"
   ]
  },
  {
   "cell_type": "code",
   "execution_count": 4,
   "metadata": {
    "ExecuteTime": {
     "end_time": "2022-04-09T06:52:56.784034Z",
     "start_time": "2022-04-09T06:51:48.572535Z"
    },
    "id": "0F_DyktW8Bgw"
   },
   "outputs": [
    {
     "name": "stdout",
     "output_type": "stream",
     "text": [
      "Final Accuracy: tensor(0.9100)\n"
     ]
    }
   ],
   "source": [
    "#Define hyperparameters\n",
    "input_dim=784\n",
    "hidden_dim1=50\n",
    "hidden_dim2=50\n",
    "output_dim=10\n",
    "epochs = 250\n",
    "\n",
    "#Define optimizer\n",
    "model = Network(input_dim,hidden_dim1,hidden_dim2,output_dim)\n",
    "optimizer = torch.optim.Adam(model.parameters(), lr=0.001)\n",
    "\n",
    "#Define loss function\n",
    "loss_fn   = nn.CrossEntropyLoss()\n",
    "\n",
    "loss_list     = np.zeros((epochs,))\n",
    "accuracy_list = np.zeros((epochs,))\n",
    "\n",
    "#Train network\n",
    "for epoch in range(epochs):\n",
    "    for train_sample in train_loader:\n",
    "        \n",
    "        input=train_sample[0]\n",
    "        input=input.reshape(train_batch_size,1,input_dim)\n",
    "        targets=train_sample[1]\n",
    "        \n",
    "        #Calculate training loss on model\n",
    "        output = model(input)\n",
    "        loss = loss_fn(output.squeeze(), targets)\n",
    "        loss_list[epoch] = loss.item()\n",
    "\n",
    "        # Zero gradients\n",
    "        optimizer.zero_grad()\n",
    "        loss.backward()\n",
    "        optimizer.step()\n",
    "        \n",
    "    #Train on Validation\n",
    "    for train_sample in valid_loader:\n",
    "        train_X,train_Y= next(iter(valid_loader))\n",
    "        input_train = train_X.reshape((valid_batch_size,input_dim))\n",
    "        output_train = model(input_train)\n",
    "        \n",
    "        loss = loss_fn(output_train, train_Y)\n",
    "        loss_list[epoch] = loss.item()\n",
    "        \n",
    "        # Zero gradients\n",
    "        optimizer.zero_grad()\n",
    "        loss.backward()\n",
    "        optimizer.step()\n",
    "\n",
    "    #Validation\n",
    "    with torch.no_grad():\n",
    "        for valid_sample in valid_loader:\n",
    "            valid_X,valid_Y = next(iter(valid_loader))\n",
    "            input_valid=valid_X.reshape((valid_batch_size,input_dim))\n",
    "            output_valid=model(input_valid)\n",
    "            correct = (torch.argmax(torch.Tensor(output_valid), dim=1) == valid_Y).type(torch.FloatTensor)\n",
    "            accuracy_list[epoch] = correct.mean()\n",
    "print(\"Final Accuracy: \"+str(correct.mean()))"
   ]
  },
  {
   "cell_type": "code",
   "execution_count": 5,
   "metadata": {
    "ExecuteTime": {
     "end_time": "2022-04-09T06:52:57.096937Z",
     "start_time": "2022-04-09T06:52:56.787041Z"
    },
    "id": "kqnEUuaAby8q"
   },
   "outputs": [
    {
     "data": {
      "image/png": "[encoded data removed]",
      "text/plain": [
       "<Figure size 864x432 with 2 Axes>"
      ]
     },
     "metadata": {
      "needs_background": "light"
     },
     "output_type": "display_data"
    }
   ],
   "source": [
    "#Produce figure for training loss versus validation accuracy over epoch count\n",
    "fig, (ax1, ax2) = plt.subplots(2, figsize=(12, 6), sharex=True)\n",
    "\n",
    "ax1.plot(accuracy_list)\n",
    "ax1.set_ylabel(\"validation accuracy\")\n",
    "ax2.plot(loss_list)\n",
    "ax2.set_ylabel(\"training loss\")\n",
    "ax2.set_xlabel(\"epochs\");"
   ]
  },
  {
   "cell_type": "markdown",
   "metadata": {},
   "source": [
    "I mainly focused on varying the activation functions, training epochs, and learning rate by trying several values (3-4) within a range similar to the ones in the examples we had in class. I ended up with the following set of parameters:\n",
    "<br>\n",
    "1. Three hidden Layers\n",
    "2. 50 neurons for each layer\n",
    "3. Leakly ReLu, ReLu, and the Softmax activation function\n",
    "4. 0.001 Learning Rate\n",
    "5. 250 Epochs\n",
    "\n",
    "Ultimately my final acurracy for my best model ended up being 0.9950 which is above the 90% requirement."
   ]
  },
  {
   "cell_type": "code",
   "execution_count": null,
   "metadata": {
    "id": "Ac1wn7CKcMns"
   },
   "outputs": [],
   "source": []
  }
 ],
 "metadata": {
  "colab": {
   "collapsed_sections": [
    "EM6GQLv6j5uH"
   ],
   "name": "Lab 2- PyTorch Basics.ipynb",
   "provenance": []
  },
  "kernelspec": {
   "display_name": "Python 3",
   "language": "python",
   "name": "python3"
  },
  "language_info": {
   "codemirror_mode": {
    "name": "ipython",
    "version": 3
   },
   "file_extension": ".py",
   "mimetype": "text/x-python",
   "name": "python",
   "nbconvert_exporter": "python",
   "pygments_lexer": "ipython3",
   "version": "3.8.10"
  }
 },
 "nbformat": 4,
 "nbformat_minor": 1
}
