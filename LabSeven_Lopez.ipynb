{
 "cells": [
  {
   "cell_type": "markdown",
   "metadata": {},
   "source": [
    "# Lab Seven for UW AMATH 563\n",
    "## Assignment: Applications and Extensions of RNNs\n",
    "## By Rebecca Lopez"
   ]
  },
  {
   "cell_type": "markdown",
   "metadata": {},
   "source": [
    "In this assignment, we use recurrent neural networks on stock data, specifically open values, to predict future values."
   ]
  },
  {
   "cell_type": "code",
   "execution_count": 1,
   "metadata": {
    "colab": {
     "base_uri": "https://localhost:8080/"
    },
    "id": "8he_HrWviCCO",
    "outputId": "4624f691-0591-4e91-dd5c-53c8da1af824"
   },
   "outputs": [
    {
     "name": "stdout",
     "output_type": "stream",
     "text": [
      "cuda:0\n"
     ]
    }
   ],
   "source": [
    "#Import Necessary Packages & Libraries\n",
    "import numpy as np\n",
    "import matplotlib.pyplot as plt\n",
    "import pandas as pd\n",
    "import torch \n",
    "import torchvision\n",
    "import torch.nn as nn\n",
    "import torch.nn.functional as F\n",
    "import torch.optim as optim\n",
    "from matplotlib import pyplot as plt\n",
    "from torchvision import transforms\n",
    "from sklearn.preprocessing import StandardScaler\n",
    "from torch.autograd import Variable\n",
    "from sklearn.preprocessing import MinMaxScaler\n",
    "\n",
    "#Set Device\n",
    "device = torch.device(\"cuda:0\" if torch.cuda.is_available() else \"cpu\")\n",
    "print(device)"
   ]
  },
  {
   "cell_type": "code",
   "execution_count": 2,
   "metadata": {
    "colab": {
     "base_uri": "https://localhost:8080/"
    },
    "id": "lOd7ymg0xd9Q",
    "outputId": "b48a50e4-49dd-49d0-d20f-db4b9b947709"
   },
   "outputs": [
    {
     "name": "stdout",
     "output_type": "stream",
     "text": [
      "Mounted at /content/drive\n"
     ]
    }
   ],
   "source": [
    "#Comment out lines below if not using google colab\n",
    "from google.colab import drive\n",
    "drive.mount('/content/drive')"
   ]
  },
  {
   "cell_type": "code",
   "execution_count": 3,
   "metadata": {
    "id": "L2vcIWJkiCCT"
   },
   "outputs": [],
   "source": [
    "#Import data\n",
    "tesla_stocks = pd.read_csv('/content/drive/My Drive/Colab Notebooks/TSLA.csv')\n",
    "google_stocks = pd.read_csv('/content/drive/My Drive/Colab Notebooks/GOOGL.csv')\n",
    "dow_stocks = pd.read_csv('/content/drive/My Drive/Colab Notebooks/DJI.csv')"
   ]
  },
  {
   "cell_type": "code",
   "execution_count": 4,
   "metadata": {
    "id": "9zsv7DnMiCCX"
   },
   "outputs": [],
   "source": [
    "#Define our data sets\n",
    "data_tesla = tesla_stocks['Open'].values\n",
    "data_google = google_stocks['Open'].values\n",
    "data_dow = tesla_stocks['Open'].values"
   ]
  },
  {
   "cell_type": "code",
   "execution_count": 5,
   "metadata": {
    "id": "7SdAEZr3iCCZ"
   },
   "outputs": [],
   "source": [
    "#Normalize data\n",
    "scaler = StandardScaler()\n",
    "data_tesla = scaler.fit_transform(data_tesla.reshape(-1, 1))\n",
    "data_google = scaler.fit_transform(data_google.reshape(-1, 1))\n",
    "data_dow = scaler.fit_transform(data_dow.reshape(-1, 1))"
   ]
  },
  {
   "cell_type": "code",
   "execution_count": 6,
   "metadata": {
    "id": "6BDlvIPnYeWu"
   },
   "outputs": [],
   "source": [
    "#Define window function for sliding input\n",
    "class SlidingInput(torch.utils.data.Dataset):\n",
    "    def __init__(self, open_value, input_window):\n",
    "        self.open_value = torch.tensor(open_value).float()\n",
    "        self.input_window = input_window \n",
    "\n",
    "    def __len__(self):\n",
    "        return len(self.open_value) - self.input_window \n",
    "    \n",
    "    def __getitem__(self, idx):\n",
    "        return self.open_value[idx:idx+input_window], self.open_value[idx+input_window]"
   ]
  },
  {
   "cell_type": "code",
   "execution_count": 7,
   "metadata": {
    "id": "03Psz_JlhU7q"
   },
   "outputs": [],
   "source": [
    "#Amount of input to be taken in a window \n",
    "input_window = 25\n",
    "\n",
    "#Tesla\n",
    "telsa_train_set = SlidingInput(data_tesla[:-100-input_window], input_window)\n",
    "telsa_train_set, telsa_val_set = torch.utils.data.random_split(telsa_train_set, [int(len(telsa_train_set)*0.9)+1, int(len(telsa_train_set)*0.1)])\n",
    "telsa_val_loader = torch.utils.data.DataLoader(telsa_val_set, batch_size=len(telsa_val_set), shuffle=True)\n",
    "\n",
    "#Google\n",
    "google_train_set = SlidingInput(data_google[:-100-input_window], input_window)\n",
    "google_train_set, google_val_set = torch.utils.data.random_split(google_train_set, [int(len(google_train_set)*0.9)+1, int(len(google_train_set)*0.1)])\n",
    "google_val_loader = torch.utils.data.DataLoader(google_val_set, batch_size=len(google_val_set), shuffle=True)\n",
    "\n",
    "#Dow Jones\n",
    "dow_train_set = SlidingInput(data_dow[:-100-input_window], input_window)\n",
    "dow_train_set, dow_val_set = torch.utils.data.random_split(dow_train_set, [int(len(dow_train_set)*0.9)+1, int(len(dow_train_set)*0.1)])\n",
    "dow_val_loader = torch.utils.data.DataLoader(dow_val_set, batch_size=len(dow_val_set), shuffle=True)"
   ]
  },
  {
   "cell_type": "markdown",
   "metadata": {
    "id": "IKJPMqZKiCCa"
   },
   "source": [
    "## RNN Model Definitions"
   ]
  },
  {
   "cell_type": "code",
   "execution_count": 8,
   "metadata": {
    "id": "-Xzv6ilQiCCa"
   },
   "outputs": [],
   "source": [
    "#Vanilla RNN\n",
    "class VanillaRNN(nn.Module):\n",
    "    def __init__(self, input_dim, hidden_dim, layer_dim, output_dim):\n",
    "        super(VanillaRNN, self).__init__()\n",
    "        self.hidden_dim = hidden_dim\n",
    "        self.layer_dim = layer_dim\n",
    "        self.rnn = nn.RNN(input_dim,hidden_dim, layer_dim,batch_first=True)\n",
    "        self.fc = nn.Linear(hidden_dim,output_dim)\n",
    "    \n",
    "    def forward(self,x):\n",
    "        h0 = torch.zeros(self.layer_dim, x.size(0),self.hidden_dim).requires_grad_().cuda()\n",
    "        out, h0 =self.rnn(x,h0.detach())\n",
    "        out = self.fc(out[:,-1,:])\n",
    "        return out\n",
    "    \n",
    "#Gated Recurrent Unit RNN\n",
    "class GRURNN(nn.Module):\n",
    "    def __init__(self, input_dim, hidden_dim, layer_dim, output_dim):\n",
    "        super(GRURNN, self).__init__()\n",
    "        self.hidden_dim = hidden_dim\n",
    "        self.layer_dim = layer_dim\n",
    "        self.gru = nn.GRU(input_dim,hidden_dim, layer_dim,batch_first=True)\n",
    "        self.fc = nn.Linear(hidden_dim,output_dim)\n",
    "    \n",
    "    def forward(self,x):\n",
    "        h0 = torch.zeros(self.layer_dim, x.size(0),self.hidden_dim).requires_grad_().cuda()\n",
    "        out, hn =self.gru(x,h0)\n",
    "        out = self.fc(out[:,-1,:])\n",
    "        return out\n",
    "    \n",
    "#Long Short Term Memory RNN\n",
    "class LSTMRNN(nn.Module):\n",
    "    def __init__(self, input_dim,hidden_dim,layer_dim,output_dim):\n",
    "        super(LSTMRNN, self).__init__()\n",
    "        self.hidden_dim = hidden_dim\n",
    "        self.layer_dim = layer_dim\n",
    "        self.lstm = nn.LSTM(input_dim,hidden_dim, layer_dim,batch_first=True)\n",
    "        self.fc = nn.Linear(hidden_dim,output_dim)\n",
    "    \n",
    "    def forward(self,x):\n",
    "        h0 = torch.zeros(self.layer_dim, x.size(0),self.hidden_dim).requires_grad_().cuda()\n",
    "        c0 = torch.zeros(self.layer_dim, x.size(0),self.hidden_dim).requires_grad_().cuda()\n",
    "        out, (hn,cn) =self.lstm(x,(h0,c0))\n",
    "        out = self.fc(out[:,-1,:])\n",
    "        return out\n",
    "\n"
   ]
  },
  {
   "cell_type": "markdown",
   "metadata": {
    "id": "TBRUA3MuiCCb"
   },
   "source": [
    "## Training code: Vanilla RNN for Telsa"
   ]
  },
  {
   "cell_type": "code",
   "execution_count": 37,
   "metadata": {
    "colab": {
     "base_uri": "https://localhost:8080/"
    },
    "id": "sdivQ0-fiCCb",
    "outputId": "676219ec-e411-4c42-86ad-bb8b18ce5254"
   },
   "outputs": [
    {
     "name": "stdout",
     "output_type": "stream",
     "text": [
      "True\n",
      "i 0, loss 0.0030\n",
      "i 100, loss 0.0059\n",
      "i 200, loss 0.0045\n",
      "i 300, loss 0.0025\n",
      "i 400, loss 0.0139\n",
      "i 500, loss 0.0109\n"
     ]
    }
   ],
   "source": [
    "#Define hyperparameters\n",
    "epochs = 600\n",
    "output_dim = 1\n",
    "input_dim = 1\n",
    "hidden_dim = 512\n",
    "layer_dim = 2\n",
    "batch_size = 32\n",
    "\n",
    "\n",
    "telsa_train_loader = torch.utils.data.DataLoader(telsa_train_set, batch_size=batch_size, shuffle=True)\n",
    "model = VanillaRNN(input_dim, hidden_dim, layer_dim, output_dim).to(device)\n",
    "print(next(model.parameters()).is_cuda)\n",
    "\n",
    "#Define Loss function\n",
    "criterion = nn.MSELoss()\n",
    "#Define optimizer\n",
    "optimizer = optim.Adam(model.parameters(), lr=0.001)\n",
    "\n",
    "loss_list = []\n",
    "\n",
    "#Train Model\n",
    "for epoch in range(epochs):\n",
    "    for batch,target in telsa_train_loader:\n",
    "        batch= batch.cuda()\n",
    "        target= target.cuda()\n",
    "        optimizer.zero_grad()\n",
    "        output = model(batch)\n",
    "        loss = criterion(output,target)\n",
    "        loss.backward()\n",
    "        optimizer.step()\n",
    "        loss_list.append(loss.item())\n",
    "\n",
    "    if epoch%100 == 0:\n",
    "        print(f\"i {epoch}, loss {loss.data:.4f}\")\n",
    "\n",
    "  "
   ]
  },
  {
   "cell_type": "code",
   "execution_count": null,
   "metadata": {
    "colab": {
     "base_uri": "https://localhost:8080/",
     "height": 281
    },
    "id": "MF30rA23EzEt",
    "outputId": "ff8dc6bc-6934-49c5-d56e-b3b60e31704f"
   },
   "outputs": [],
   "source": [
    "model_prediction = []\n",
    "\n",
    "actual_values = scaler.inverse_transform(data_tesla[-100:]).reshape(-1,1)\n",
    "input = torch.tensor(data_tesla[-100-input_window:-100])\n",
    "input = input.float()\n",
    "input = input.cuda()\n",
    "\n",
    "#Test Model\n",
    "for i in range(100):\n",
    "    output = model(input.reshape(1, -1, 1))\n",
    "    predication = output.item()\n",
    "\n",
    "    model_prediction.append(scaler.inverse_transform(np.array(predication).reshape(-1,1)))\n",
    "    input[:-1] = input[1:].clone()\n",
    "    input[-1] = predication\n",
    "\n",
    "model_prediction= np.array(model_prediction).flatten().tolist()"
   ]
  },
  {
   "cell_type": "code",
   "execution_count": 38,
   "metadata": {
    "colab": {
     "base_uri": "https://localhost:8080/",
     "height": 281
    },
    "id": "MF30rA23EzEt",
    "outputId": "ff8dc6bc-6934-49c5-d56e-b3b60e31704f"
   },
   "outputs": [
    {
     "data": {
      "image/png": "[encoded data removed]",
      "text/plain": [
       "<Figure size 432x288 with 1 Axes>"
      ]
     },
     "metadata": {
      "needs_background": "light"
     },
     "output_type": "display_data"
    }
   ],
   "source": [
    "#Produce plot of model predication versus the actual stock values\n",
    "plt.plot(model_prediction, label='Model Predication')\n",
    "plt.plot(actual_values, label='Actual Stock Values')\n",
    "plt.title('Vanilla RNN for Telsa Stock')\n",
    "plt.legend()\n",
    "plt.show()"
   ]
  },
  {
   "cell_type": "markdown",
   "metadata": {
    "id": "W-GZY2JoF0NZ"
   },
   "source": [
    "## Training code: GRU RNN for Google\n"
   ]
  },
  {
   "cell_type": "code",
   "execution_count": 40,
   "metadata": {
    "colab": {
     "base_uri": "https://localhost:8080/"
    },
    "id": "ls6LiPM-FsJW",
    "outputId": "c0000e9f-9001-4b8c-be8e-a99911ccce71"
   },
   "outputs": [
    {
     "name": "stdout",
     "output_type": "stream",
     "text": [
      "True\n",
      "i 0, loss 0.0021\n",
      "i 100, loss 0.0016\n",
      "i 200, loss 0.0012\n",
      "i 300, loss 0.0002\n",
      "i 400, loss 0.0002\n",
      "i 500, loss 0.0000\n"
     ]
    }
   ],
   "source": [
    "#Define hyperparameters\n",
    "epochs = 600\n",
    "output_dim = 1\n",
    "input_dim = 1\n",
    "hidden_dim = 512\n",
    "layer_dim = 2\n",
    "batch_size = 32\n",
    "\n",
    "\n",
    "google_train_loader = torch.utils.data.DataLoader(google_train_set, batch_size=batch_size, shuffle=True)\n",
    "model = GRURNN(input_dim, hidden_dim, layer_dim, output_dim).to(device)\n",
    "print(next(model.parameters()).is_cuda)\n",
    "\n",
    "#Define Loss function\n",
    "criterion = nn.MSELoss()\n",
    "#Define optimizer\n",
    "optimizer = optim.Adam(model.parameters(), lr=0.001)\n",
    "\n",
    "loss_list = []\n",
    "\n",
    "#Train Model\n",
    "for epoch in range(epochs):\n",
    "    for batch,target in google_train_loader:\n",
    "        batch= batch.cuda()\n",
    "        target= target.cuda()\n",
    "        optimizer.zero_grad()\n",
    "        output = model(batch)\n",
    "        loss = criterion(output,target)\n",
    "        loss.backward()\n",
    "        optimizer.step()\n",
    "        loss_list.append(loss.item())\n",
    "\n",
    "    if epoch%100 == 0:\n",
    "        print(f\"i {epoch}, loss {loss.data:.4f}\")\n",
    "\n",
    "  "
   ]
  },
  {
   "cell_type": "code",
   "execution_count": null,
   "metadata": {
    "colab": {
     "base_uri": "https://localhost:8080/",
     "height": 281
    },
    "id": "jLIdzlKlLJ-B",
    "outputId": "b31c4008-9f0b-4517-d13a-b3d61d70d591"
   },
   "outputs": [],
   "source": [
    "model_prediction = []\n",
    "actual_values = scaler.inverse_transform(data_google[-100:]).reshape(-1,1)\n",
    "input = torch.tensor(data_google[-100-input_window:-100])\n",
    "input = input.float()\n",
    "input = input.cuda()\n",
    "\n",
    "#Test Model\n",
    "for i in range(100):\n",
    "    output = model(input.reshape(1, -1, 1))\n",
    "    predication = output.item()\n",
    "\n",
    "    model_prediction.append(scaler.inverse_transform(np.array(predication).reshape(-1,1)))\n",
    "    input[:-1] = input[1:].clone()\n",
    "    input[-1] = predication\n",
    "\n",
    "model_prediction= np.array(model_prediction).flatten().tolist()"
   ]
  },
  {
   "cell_type": "code",
   "execution_count": 41,
   "metadata": {
    "colab": {
     "base_uri": "https://localhost:8080/",
     "height": 281
    },
    "id": "jLIdzlKlLJ-B",
    "outputId": "b31c4008-9f0b-4517-d13a-b3d61d70d591"
   },
   "outputs": [
    {
     "data": {
      "image/png": "[encoded data removed]",
      "text/plain": [
       "<Figure size 432x288 with 1 Axes>"
      ]
     },
     "metadata": {
      "needs_background": "light"
     },
     "output_type": "display_data"
    }
   ],
   "source": [
    "#Produce plot of model predication versus the actual stock values\n",
    "plt.plot(model_prediction, label='Model Predication')\n",
    "plt.plot(actual_values, label='Actual Stock Values')\n",
    "plt.title('GRU RNN for Google Stock')\n",
    "plt.legend()\n",
    "plt.show()"
   ]
  },
  {
   "cell_type": "markdown",
   "metadata": {
    "id": "LAENRBjrF2Se"
   },
   "source": [
    "## Training code: LSMT RNN for Dow Jones"
   ]
  },
  {
   "cell_type": "code",
   "execution_count": 42,
   "metadata": {
    "colab": {
     "base_uri": "https://localhost:8080/"
    },
    "id": "HIcyj2T3Fs2A",
    "outputId": "8a58c74a-7345-4c35-b5f3-d2d38aa424c3"
   },
   "outputs": [
    {
     "name": "stdout",
     "output_type": "stream",
     "text": [
      "True\n",
      "i 0, loss 0.0043\n",
      "i 100, loss 0.0009\n",
      "i 200, loss 0.0010\n",
      "i 300, loss 0.0019\n",
      "i 400, loss 0.0009\n",
      "i 500, loss 0.0001\n"
     ]
    }
   ],
   "source": [
    "#Define hyperparameters\n",
    "epochs = 600\n",
    "output_dim = 1\n",
    "input_dim = 1\n",
    "hidden_dim = 512\n",
    "layer_dim = 2\n",
    "batch_size = 32\n",
    "\n",
    "\n",
    "dow_train_loader = torch.utils.data.DataLoader(dow_train_set, batch_size=batch_size, shuffle=True)\n",
    "model = LSTMRNN(input_dim, hidden_dim, layer_dim, output_dim).to(device)\n",
    "print(next(model.parameters()).is_cuda)\n",
    "\n",
    "#Define Loss function\n",
    "criterion = nn.MSELoss()\n",
    "#Define optimizer\n",
    "optimizer = optim.Adam(model.parameters(), lr=0.001)\n",
    "\n",
    "loss_list = []\n",
    "\n",
    "#Train Model\n",
    "for epoch in range(epochs):\n",
    "    for batch,target in dow_train_loader:\n",
    "        batch= batch.cuda()\n",
    "        target= target.cuda()\n",
    "        optimizer.zero_grad()\n",
    "        output = model(batch)\n",
    "        loss = criterion(output,target)\n",
    "        loss.backward()\n",
    "        optimizer.step()\n",
    "        loss_list.append(loss.item())\n",
    "\n",
    "    if epoch%100 == 0:\n",
    "        print(f\"i {epoch}, loss {loss.data:.4f}\")\n",
    "\n",
    "  "
   ]
  },
  {
   "cell_type": "code",
   "execution_count": null,
   "metadata": {
    "colab": {
     "base_uri": "https://localhost:8080/",
     "height": 281
    },
    "id": "cfJsPDXxOcyk",
    "outputId": "bba1a328-5e91-498d-a0c7-9a7157efe9ea"
   },
   "outputs": [],
   "source": [
    "model_prediction = []\n",
    "actual_values = scaler.inverse_transform(data_dow[-100:]).reshape(-1,1)\n",
    "input = torch.tensor(data_dow[-100-input_window:-100])\n",
    "input = input.float()\n",
    "input = input.cuda()\n",
    "\n",
    "#Test Model\n",
    "for i in range(100):\n",
    "    output = model(input.reshape(1, -1, 1))\n",
    "    predication = output.item()\n",
    "\n",
    "    model_prediction.append(scaler.inverse_transform(np.array(predication).reshape(-1,1)))\n",
    "    input[:-1] = input[1:].clone()\n",
    "    input[-1] = predication\n",
    "\n",
    "model_prediction= np.array(model_prediction).flatten().tolist()"
   ]
  },
  {
   "cell_type": "code",
   "execution_count": 43,
   "metadata": {
    "colab": {
     "base_uri": "https://localhost:8080/",
     "height": 281
    },
    "id": "cfJsPDXxOcyk",
    "outputId": "bba1a328-5e91-498d-a0c7-9a7157efe9ea"
   },
   "outputs": [
    {
     "data": {
      "image/png": "[encoded data removed]",
      "text/plain": [
       "<Figure size 432x288 with 1 Axes>"
      ]
     },
     "metadata": {
      "needs_background": "light"
     },
     "output_type": "display_data"
    }
   ],
   "source": [
    "#Produce plot of model predication versus the actual stock values\n",
    "plt.plot(model_prediction, label='Model Predication')\n",
    "plt.plot(actual_values, label='Actual Stock Values')\n",
    "plt.title('LSMT RNN for Dow Jones Stock')\n",
    "plt.legend()\n",
    "plt.show()"
   ]
  },
  {
   "cell_type": "code",
   "execution_count": null,
   "metadata": {
    "id": "Eh2aYe_0eqqD"
   },
   "outputs": [],
   "source": []
  }
 ],
 "metadata": {
  "accelerator": "GPU",
  "colab": {
   "collapsed_sections": [],
   "name": "Lab7_Template.ipynb",
   "provenance": []
  },
  "kernelspec": {
   "display_name": "Python 3",
   "language": "python",
   "name": "python3"
  },
  "language_info": {
   "codemirror_mode": {
    "name": "ipython",
    "version": 3
   },
   "file_extension": ".py",
   "mimetype": "text/x-python",
   "name": "python",
   "nbconvert_exporter": "python",
   "pygments_lexer": "ipython3",
   "version": "3.8.10"
  }
 },
 "nbformat": 4,
 "nbformat_minor": 1
}
